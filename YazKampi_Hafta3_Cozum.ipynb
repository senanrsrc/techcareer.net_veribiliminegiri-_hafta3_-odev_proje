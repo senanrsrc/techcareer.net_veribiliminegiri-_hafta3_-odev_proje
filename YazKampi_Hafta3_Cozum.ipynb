{
 "cells": [
  {
   "metadata": {},
   "cell_type": "markdown",
   "source": "## Techcareer.Net Veri Bilimine Giriş Kampı Hafta 3 Ödevi Çözümü",
   "id": "27042bd142437cf1"
  },
  {
   "cell_type": "markdown",
   "id": "1773236a",
   "metadata": {},
   "source": "## Soru 1"
  },
  {
   "cell_type": "code",
   "id": "2a40effa",
   "metadata": {
    "ExecuteTime": {
     "end_time": "2025-09-04T09:16:46.963003Z",
     "start_time": "2025-09-04T09:16:46.955419Z"
    }
   },
   "source": [
    "notlar = [85, 92, 76, 92, 100, 76, 85, 92]\n",
    "\n",
    "benzersiz_liste = []\n",
    "for ognotu in notlar:\n",
    "    if ognotu not in benzersiz_liste:\n",
    "        benzersiz_liste.append(ognotu)\n",
    "\n",
    "# En yüksek ve en düşük not\n",
    "en_yuksek_not = max(notlar)\n",
    "en_dusuk_not = min(notlar)\n",
    "\n",
    "# Küçükten büyüğe sıralama\n",
    "notlar_sirali = sorted(notlar)\n",
    "\n",
    "print(\"Benzersiz notlar:\", benzersiz_liste)\n",
    "print(\"En yüksek not:\", en_yuksek_not)\n",
    "print(\"En düşük not:\", en_dusuk_not)\n",
    "print(\"Küçükten büyüğe sıralı:\", notlar_sirali)"
   ],
   "outputs": [
    {
     "name": "stdout",
     "output_type": "stream",
     "text": [
      "Benzersiz notlar: [85, 92, 76, 100]\n",
      "En yüksek not: 100\n",
      "En düşük not: 76\n",
      "Küçükten büyüğe sıralı: [76, 76, 85, 85, 92, 92, 92, 100]\n"
     ]
    }
   ],
   "execution_count": 3
  },
  {
   "cell_type": "markdown",
   "id": "bfe233a1",
   "metadata": {},
   "source": "## Soru 2"
  },
  {
   "cell_type": "code",
   "id": "24b0001a",
   "metadata": {
    "ExecuteTime": {
     "end_time": "2025-09-04T09:33:01.797729Z",
     "start_time": "2025-09-04T09:32:59.453899Z"
    }
   },
   "source": [
    "\n",
    "def armstrong_mu(sayi):\n",
    "# list comprehension bilgimle yaptım\n",
    "    sayi_basamak = [int(rakam) for rakam in str(sayi)]\n",
    "    kup_toplami = sum(rakam**3 for rakam in sayi_basamak)\n",
    "    return kup_toplami == sayi\n",
    "\n",
    "sayi = int(input(\"Bir sayı giriniz:\"))\n",
    "\n",
    "if armstrong_mu(sayi):\n",
    "    print(sayi, \", bir Armstrong sayısı.\")\n",
    "else:\n",
    "    print(sayi, \", bir Armstrong sayısı değildir.\")"
   ],
   "outputs": [
    {
     "name": "stdout",
     "output_type": "stream",
     "text": [
      "153 ,bir Armstrong sayısı.\n"
     ]
    }
   ],
   "execution_count": 8
  },
  {
   "cell_type": "markdown",
   "id": "25357485",
   "metadata": {},
   "source": "## Soru 3"
  },
  {
   "cell_type": "code",
   "id": "3da2c9e1",
   "metadata": {
    "ExecuteTime": {
     "end_time": "2025-09-04T09:35:33.084976Z",
     "start_time": "2025-09-04T09:35:33.076279Z"
    }
   },
   "source": [
    "\n",
    "A = {\"Python\", \"R\", \"SQL\", \"Java\"}\n",
    "B = {\"C++\", \"Python\", \"JavaScript\", \"SQL\"}\n",
    "\n",
    "ortak_diller = A & B\n",
    "sadece_A_dilleri = A - B\n",
    "küme_birleşimi = sorted(A | B)\n",
    "\n",
    "print(\"Ortak diller:\", ortak_diller)\n",
    "print(\"Sadece A'da olan diller:\", sadece_A_dilleri )\n",
    "print(\"Birleşim kümesi(alfabetik):\", küme_birleşimi)"
   ],
   "outputs": [
    {
     "name": "stdout",
     "output_type": "stream",
     "text": [
      "Ortak diller: {'SQL', 'Python'}\n",
      "Sadece A'da olan diller: {'Java', 'R'}\n",
      "Birleşim kümesi(alfabetik): ['C++', 'Java', 'JavaScript', 'Python', 'R', 'SQL']\n"
     ]
    }
   ],
   "execution_count": 9
  },
  {
   "cell_type": "markdown",
   "id": "2b9ffd2b",
   "metadata": {},
   "source": "## Soru 4"
  },
  {
   "cell_type": "code",
   "id": "0fba3808",
   "metadata": {
    "ExecuteTime": {
     "end_time": "2025-09-04T09:44:20.849086Z",
     "start_time": "2025-09-04T09:44:20.833510Z"
    }
   },
   "source": [
    "import random\n",
    "import statistics as ist\n",
    "## list comprehension\n",
    "random_sayilar = [random.randint(1, 100) for a in range(10)]\n",
    "\n",
    "ortalama = ist.mean(random_sayilar)\n",
    "standart_sapma = ist.pstdev(random_sayilar)\n",
    "\n",
    "print(\"Rastgele sayılar:\", random_sayilar)\n",
    "print(\"Ortalama:\", ortalama)\n",
    "print(\"Standart sapma:\", standart_sapma)\n"
   ],
   "outputs": [
    {
     "name": "stdout",
     "output_type": "stream",
     "text": [
      "Rastgele sayılar: [69, 97, 75, 15, 54, 9, 83, 52, 43, 94]\n",
      "Ortalama: 59.1\n",
      "Standart sapma: 28.925594203058303\n"
     ]
    }
   ],
   "execution_count": 11
  },
  {
   "cell_type": "markdown",
   "id": "f528049d",
   "metadata": {},
   "source": "## Soru 5"
  },
  {
   "cell_type": "code",
   "id": "b2c1cf65",
   "metadata": {
    "ExecuteTime": {
     "end_time": "2025-09-04T10:30:20.817571Z",
     "start_time": "2025-09-04T10:30:10.089426Z"
    }
   },
   "source": [
    "def kelime_sayaci(metin):\n",
    "    kelimeler = metin.split()\n",
    "    toplam = len(kelimeler)\n",
    "    en_uzun = max(kelimeler, key=len)\n",
    "\n",
    "    #\n",
    "    en_sik = max(set(kelimeler), key=kelimeler.count)\n",
    "\n",
    "\n",
    "    if kelimeler.count(en_sik) < 2:\n",
    "        en_sik = None\n",
    "\n",
    "    return toplam, en_uzun, en_sik\n",
    "\n",
    "\n",
    "metin = input(\"Bir metin girin: \")\n",
    "\n",
    "toplam, en_uzun, en_sik = kelime_sayaci(metin)\n",
    "\n",
    "print(\"Toplam kelime sayısı:\", toplam)\n",
    "print(\"En uzun kelime:\", en_uzun)\n",
    "if en_sik:\n",
    "    print(\"En sık geçen kelime:\", en_sik)\n",
    "else:\n",
    "    print(\"Hiçbir kelime birden fazla geçmiyor.\")\n"
   ],
   "outputs": [
    {
     "name": "stdout",
     "output_type": "stream",
     "text": [
      "Toplam kelime sayısı: 4\n",
      "En uzun kelime: SENANUR\n",
      "Hiçbir kelime birden fazla geçmiyor.\n"
     ]
    }
   ],
   "execution_count": 18
  },
  {
   "cell_type": "markdown",
   "id": "bc6190f7",
   "metadata": {},
   "source": "## Soru 6 "
  },
  {
   "cell_type": "code",
   "execution_count": null,
   "id": "71a6e91b",
   "metadata": {},
   "outputs": [],
   "source": [
    "sayilar = [5, 12, 7, 18, 24, 3, 16]\n",
    "\n",
    "cift_sayilar = list(filter(lambda x: x % 2 == 0, sayilar))\n",
    "kareler = list(map(lambda x: x**2, cift_sayilar))\n",
    "azalan_kareler = sorted(kareler, reverse=True)\n",
    "\n",
    "print(\"Çift Sayılar:\", cift_sayilar)\n",
    "print(\"Sayıların Kareleri:\", kareler)\n",
    "print(\"Sayıların karelerinin azalan şekilde sıralanışı:\", azalan_kareler)\n"
   ]
  },
  {
   "cell_type": "markdown",
   "id": "130690f7",
   "metadata": {},
   "source": "## Soru 7"
  },
  {
   "cell_type": "code",
   "id": "bc6bd2a0",
   "metadata": {
    "ExecuteTime": {
     "end_time": "2025-09-04T11:12:44.081409Z",
     "start_time": "2025-09-04T11:12:44.074589Z"
    }
   },
   "source": [
    "\n",
    "kelimeler = [\"veri\", \"bilim\", \"analiz\", \"yapayzeka\", \"python\"]\n",
    "kucukten_buyuge = sorted(kelimeler, key= lambda k: len(k) )\n",
    "print(kucukten_buyuge)\n"
   ],
   "outputs": [
    {
     "name": "stdout",
     "output_type": "stream",
     "text": [
      "['veri', 'bilim', 'analiz', 'python', 'yapayzeka']\n"
     ]
    }
   ],
   "execution_count": 3
  },
  {
   "cell_type": "markdown",
   "id": "fd85b81c",
   "metadata": {},
   "source": "## Soru 8"
  },
  {
   "cell_type": "code",
   "id": "77de86e9",
   "metadata": {
    "ExecuteTime": {
     "end_time": "2025-09-04T11:23:25.902510Z",
     "start_time": "2025-09-04T11:23:22.370990Z"
    }
   },
   "source": [
    "def rakam_toplami(metin):\n",
    "    toplam = 0\n",
    "    for c in metin:\n",
    "        if c.isdigit():      # karakter bir rakam mı?\n",
    "            toplam += int(c) # rakamı sayıya çevirip topla\n",
    "    return toplam\n",
    "\n",
    "# Kullanıcıdan metin al\n",
    "metin = input(\"Bir metin girin: \")\n",
    "\n",
    "print(\"Metninizdeki rakamların toplamı:\", rakam_toplami(metin))\n"
   ],
   "outputs": [
    {
     "name": "stdout",
     "output_type": "stream",
     "text": [
      "Rakamların toplamı: 7\n"
     ]
    }
   ],
   "execution_count": 4
  },
  {
   "cell_type": "markdown",
   "id": "f4178a76",
   "metadata": {},
   "source": "## Soru 9"
  },
  {
   "cell_type": "code",
   "id": "feb4775a",
   "metadata": {
    "ExecuteTime": {
     "end_time": "2025-09-04T11:29:10.150363Z",
     "start_time": "2025-09-04T11:29:10.142588Z"
    }
   },
   "source": [
    "\n",
    "import numpy as np\n",
    "\n",
    "np.random.seed(42)\n",
    "dizi = np.random.randint(0, 50, 10)\n",
    "dizi_ortalama = dizi.mean()\n",
    "dizi_sapma = dizi.std()\n",
    "dizi_maksimum = dizi.max()\n",
    "\n",
    "print(\"Dizi:\", dizi)\n",
    "print(\"Ortalama:\", dizi_ortalama)\n",
    "print(\"Standart sapma:\", round(dizi_sapma,2))\n",
    "print(\"En büyük değer:\", dizi_maksimum)\n"
   ],
   "outputs": [
    {
     "name": "stdout",
     "output_type": "stream",
     "text": [
      "Dizi: [38 28 14 42  7 20 38 18 22 10]\n",
      "Ortalama: 23.7\n",
      "Standart sapma: 11.71\n",
      "En büyük değer: 42\n"
     ]
    }
   ],
   "execution_count": 8
  },
  {
   "cell_type": "markdown",
   "id": "8e1e0dfd",
   "metadata": {},
   "source": "## Soru 10"
  },
  {
   "cell_type": "code",
   "id": "62c24dc3",
   "metadata": {
    "ExecuteTime": {
     "end_time": "2025-09-04T11:41:41.830330Z",
     "start_time": "2025-09-04T11:41:41.821668Z"
    }
   },
   "source": [
    "import numpy as np\n",
    "\n",
    "\n",
    "matris = np.random.rand(5, 5)\n",
    "print(\"\\nOrijinal matris:\\n\", matris)\n",
    "\n",
    "sutun_ortalamalari = matris.mean(axis=0)\n",
    "print(\"\\nHer sütunun ortalaması:\\n\", sutun_ortalamalari)\n",
    "\n",
    "\n",
    "binary_matris = (matris > 0.5).astype(int)\n",
    "print(\"\\nBinary matris:\\n\", binary_matris)\n"
   ],
   "outputs": [
    {
     "name": "stdout",
     "output_type": "stream",
     "text": [
      "\n",
      "Orijinal matris:\n",
      " [[0.69243603 0.26941233 0.24412552 0.16829104 0.21876422]\n",
      " [0.558102   0.40383617 0.06489225 0.25391541 0.24687606]\n",
      " [0.69630427 0.71227059 0.14808693 0.99774049 0.26678101]\n",
      " [0.97661496 0.41103701 0.03305073 0.34507125 0.63435134]\n",
      " [0.68070545 0.53093458 0.44778316 0.55289309 0.59269672]]\n",
      "\n",
      "Her sütunun ortalaması:\n",
      " [0.72083254 0.46549814 0.18758772 0.46358226 0.39189387]\n",
      "\n",
      "Binary matris:\n",
      " [[1 0 0 0 0]\n",
      " [1 0 0 0 0]\n",
      " [1 1 0 1 0]\n",
      " [1 0 0 0 1]\n",
      " [1 1 0 1 1]]\n"
     ]
    }
   ],
   "execution_count": 16
  }
 ],
 "metadata": {
  "kernelspec": {
   "name": "python3",
   "language": "python",
   "display_name": "Python 3 (ipykernel)"
  }
 },
 "nbformat": 4,
 "nbformat_minor": 5
}
